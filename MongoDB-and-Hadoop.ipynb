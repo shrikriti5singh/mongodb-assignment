{
 "cells": [
  {
   "cell_type": "markdown",
   "metadata": {},
   "source": [
    "# Coursework 2: Data Processing\n",
    "\n",
    "## Task 1\n",
    "This coursework will assess your understanding of using NoSQL to store and retrieve data.  You will perform operations on data from a collection of scientific articles in a MongoDB database.  You will be required to run code to answer the given questions in the Jupyter notebook provided.\n",
    "\n",
    "\n",
    "Download the dataset articles.json from Blackboard and import it into a collection called 'articles' into the 'coursework' database. The Virtual Machine comes pre-configured with an user \"coursework\" with password \"coursework\" with read-write privileges over the coursework database. The admin database is also 'coursework'. \n",
    "\n",
    "Each question asks you to implement a function following a certain specification. We have an evaluation script that will check the correctness of your answer. It is essential that:\n",
    " \n",
    " 1. You respect the requested answer format, otherwise, the script will flag your answer as incorrect. If the result is correct, but your formatting is incorrect, you get a penalty of -20% of the mark.\n",
    " \n",
    " 2. Do not insert or delete cells in the notebook you will submit, the evaluation script relies on your answer being in the right cell.\n",
    "    \n",
    "    1. If you feel the need of inserting cells to prepare and test your answer, do it in a copy of the notebook. Once you finish an answer that fits in a single cell, transfer it to the notebook that you will submit.\n",
    "    \n",
    "    2. You can define auxiliary functions if you want, as long as they are all in the same cell as the main function.\n",
    "    \n",
    "    3. If you add print statements for testing, please delete or comment them before submitting.\n",
    "\n",
    "\n",
    "Answers can make use of the tools you learned so far: MongoDB pipelines and operators, Python code, pandas and networkx. An important aspect of the coursework is to identify in what situations is best to use MongoDB only, and in what situations is best to use multiple tools. A bad choice may make your answer less efficient, and in some cases, not run at all. The marking scheme at the end of the notebook details the expected execution times of your answers. Less efficient answers will get less marks.\n",
    "\n"
   ]
  },
  {
   "cell_type": "markdown",
   "metadata": {},
   "source": [
    " ## Context\n",
    "    \n",
    "Bibliometrics Ltd. has hired you, dear data scientist, to analyse the latest articles in Computer Science collected by the DBLP (https://dblp.uni-trier.de/) open bibliographic service and further processed by the AMiner team (https://www.aminer.cn/citation). You have been provided with the articles from 2017 and 2019 and an MS Teams chat window with \"The Management\", on which you will get the questions you need to answer. "
   ]
  },
  {
   "cell_type": "code",
   "execution_count": 1,
   "metadata": {
    "ExecuteTime": {
     "end_time": "2021-12-16T00:35:13.776164Z",
     "start_time": "2021-12-16T00:35:10.430746Z"
    },
    "tags": [
     "import"
    ]
   },
   "outputs": [],
   "source": [
    "#import section\n",
    "import pymongo\n",
    "from pymongo import MongoClient\n",
    "from datetime import datetime\n",
    "from pprint import pprint\n",
    "import networkx as nx\n",
    "import pandas as pd"
   ]
  },
  {
   "cell_type": "markdown",
   "metadata": {
    "tags": [
     "q0"
    ]
   },
   "source": [
    "### 0) \n",
    "\n",
    "Before the first question pops in the chat window, you better off set up everything to provide answers.\n",
    "\n",
    "Task:\n",
    "\n",
    "Write a function that given the name of a database and the name of a collection returns a pymongo collection object of the collection using the user you just created. Use this function to create a pymongo collection object of the 'articles' collection.\n",
    "\n",
    "\n",
    "[5 points]"
   ]
  },
  {
   "cell_type": "code",
   "execution_count": 2,
   "metadata": {
    "ExecuteTime": {
     "end_time": "2021-12-16T00:35:13.853283Z",
     "start_time": "2021-12-16T00:35:13.783380Z"
    },
    "nbgrader": {
     "grade": false,
     "grade_id": "get_collection",
     "locked": false,
     "schema_version": 1,
     "solution": true
    },
    "tags": [
     "a0"
    ]
   },
   "outputs": [],
   "source": [
    "def get_collection(dbname,collection_name):\n",
    "    \"\"\"\n",
    "    Connects to the server, and returns a collection object\n",
    "    of the `collection_name` collection in the `dbname` database\n",
    "    \"\"\"\n",
    "    client = MongoClient('mongodb://' + dbname + ':' + dbname + '@localhost:27017', authSource=dbname)\n",
    "    db = client[dbname]\n",
    "    return db, db[collection_name]\n",
    "\n",
    "# the collection on which you will work on\n",
    "db, articles = get_collection('coursework','articles')\n",
    "\n",
    "\n"
   ]
  },
  {
   "cell_type": "markdown",
   "metadata": {
    "tags": [
     "q1"
    ]
   },
   "source": [
    "### 1) \n",
    "\n",
    "The Management has logged in... they want to know how many articles of each type according to the 'doc_type' property are in the dataset. However, being the competent data scientist you are, you know that you always need to verify your data before start crunching numbers...\n",
    "\n",
    "### Task:\n",
    "\n",
    "Write a function that returns the number of articles missing the 'doc_type' property or having it equal to the empty string (\"\") \n",
    "\n",
    "[5 points] \n",
    "\n"
   ]
  },
  {
   "cell_type": "code",
   "execution_count": 3,
   "metadata": {
    "ExecuteTime": {
     "end_time": "2021-12-16T00:35:13.893662Z",
     "start_time": "2021-12-16T00:35:13.864288Z"
    },
    "nbgrader": {
     "grade": false,
     "grade_id": "get_bcced_people",
     "locked": false,
     "schema_version": 1,
     "solution": true
    },
    "tags": [
     "a1"
    ]
   },
   "outputs": [],
   "source": [
    "def count_missing_doc_types(articles):\n",
    "    \"\"\"\n",
    "    :param articles A PyMongo collection of articles\n",
    "    :return: int: Number or articles without a a 'doc_type' property or having it equal to the empty string ('') \n",
    "    \"\"\"\n",
    "    # YOUR CODE HERE\n",
    "    match = {\n",
    "        \"$match\": {\n",
    "            \"$or\":[\n",
    "            {\"doc_type\":\"\"},\n",
    "            {\"doc_type\":{ \"$exists\": False }}\n",
    "          ]\n",
    "        }\n",
    "    }\n",
    "\n",
    "    group = {\n",
    "        '$group': {'_id': None, 'count': {'$sum': 1}}\n",
    "    }\n",
    "\n",
    "    cursor = articles.aggregate([match, group])\n",
    "    count = 0\n",
    "    for c in cursor:\n",
    "        count = c['count']\n",
    "    return count"
   ]
  },
  {
   "cell_type": "markdown",
   "metadata": {
    "tags": [
     "q2"
    ]
   },
   "source": [
    "### 2) \n",
    "\n",
    "You inform The Management of how many articles are missing the doc_type property or have it empty. They would like to fix as many as possible before moving forward. They may be able to infer the missing types based on the article publisher, so they ask: what are the publishers of the articles that are missing the doc_type property?\n",
    "\n",
    "### Task:\n",
    "\n",
    "Write a function that returns the set of publishers of articles that are missing the doc_type property or have it equal to the empty string. \n",
    "\n",
    "[5 points]"
   ]
  },
  {
   "cell_type": "code",
   "execution_count": 4,
   "metadata": {
    "ExecuteTime": {
     "end_time": "2021-12-16T00:35:13.932033Z",
     "start_time": "2021-12-16T00:35:13.906766Z"
    },
    "tags": [
     "a2"
    ]
   },
   "outputs": [],
   "source": [
    "def get_publishers_of_articles_missing_type(articles):\n",
    "    \"\"\"\n",
    "    :param articles PyMongo collection of articles\n",
    "    :return: Set: set of publishers of articles that are missing the doc_type property, defined as not having the field at all, or having it equal to the empty string.\n",
    "    \"\"\"    \n",
    "    \n",
    "    match = {\n",
    "        \"$match\": {\n",
    "            \"$or\":[\n",
    "            {\"doc_type\":\"\"},\n",
    "            {\"doc_type\":{ \"$exists\": False }}\n",
    "          ]\n",
    "        }\n",
    "    }\n",
    "\n",
    "    group = {\n",
    "        '$group': {'_id': '$publisher', 'count': {'$sum': 1}}\n",
    "    }\n",
    "    \n",
    "    cursor = articles.aggregate([match, group])\n",
    "    st = set()\n",
    "    for c in cursor:\n",
    "        st.add(c['_id'])\n",
    "    return st"
   ]
  },
  {
   "cell_type": "markdown",
   "metadata": {
    "tags": [
     "q3"
    ]
   },
   "source": [
    "### 3)\n",
    "\n",
    "The Management analysed the set you provided in the previous task and decided that:\n",
    "\n",
    " 1) Articles missing doc_type  with publisher == 'Springer, Cham' should have 'doc_type' == 'Book'\n",
    " \n",
    " 2) Articles missing doc_type with publisher  == 'RFC Editor' should have 'doc_type' == 'RFC'\n",
    " \n",
    " 3) The remainder of articles missing doc_type should have 'doc_type' == 'N/A'\n",
    " \n",
    "Task:\n",
    "\n",
    "Write a function that updates the article collection according to The Management's decision.\n",
    "\n",
    "[5 points]"
   ]
  },
  {
   "cell_type": "code",
   "execution_count": 5,
   "metadata": {
    "ExecuteTime": {
     "end_time": "2021-12-16T00:35:13.962489Z",
     "start_time": "2021-12-16T00:35:13.943727Z"
    },
    "scrolled": true,
    "tags": [
     "a3"
    ]
   },
   "outputs": [],
   "source": [
    "def update_doc_types(articles):\n",
    "    \"\"\"\n",
    "    :param articles: PyMongo collection of articles\n",
    "    :return: PyMongo UpdateResult object \n",
    "    \"\"\"    \n",
    "    # YOUR CODE HERE\n",
    "    \n",
    "    newvalues = { \"$set\": { \"doc_type\": \"Book\" } }\n",
    "    filter = {\"$and\": [{\"$or\": [{\"doc_type\": { \"$exists\": False }}, {'doc_type':''}]}, {'publisher': 'Springer, Cham'}]}\n",
    "    articles.update_many(filter, newvalues)\n",
    "    \n",
    "    newvalues = { \"$set\": { \"doc_type\": \"RFC\" } }\n",
    "    filter = {\"$and\": [{\"$or\": [{\"doc_type\": { \"$exists\": False }}, {'doc_type':''}]}, {'publisher': 'RFC Editor'}]}\n",
    "    articles.update_many(filter, newvalues)\n",
    "    \n",
    "    filter = {\"$or\": [{\"doc_type\": { \"$exists\": False }}, {'doc_type':''}]}\n",
    "    \n",
    "    newvalues = { \"$set\": { \"doc_type\": \"N/A\" } }\n",
    "    articles.update_many(filter, newvalues)\n",
    "    "
   ]
  },
  {
   "cell_type": "markdown",
   "metadata": {
    "tags": [
     "q4"
    ]
   },
   "source": [
    "### 4)\n",
    "\n",
    "You are finally ready to answer the original question: What is the distribution of document types in the dataset?\n",
    "\n",
    "Task:\n",
    "\n",
    "Write a function that returns a dictionary with doc_types as keys and the number of articles of each type as values.\n",
    "\n",
    "e.g:\n",
    "\n",
    "{'Conference' : 4566 , 'N/A' : 7992 ...}\n",
    "\n",
    "\n",
    "\n",
    "[5 points]\n"
   ]
  },
  {
   "cell_type": "code",
   "execution_count": 6,
   "metadata": {
    "ExecuteTime": {
     "end_time": "2021-12-16T00:35:13.987170Z",
     "start_time": "2021-12-16T00:35:13.975377Z"
    },
    "tags": [
     "a4"
    ]
   },
   "outputs": [],
   "source": [
    "def get_types_distribution(articles):\n",
    "    \"\"\"\n",
    "    :param articles: PyMongo collection of articles\n",
    "    :return: Dictionary with article types as keys, and number of articles of type as value\n",
    "    \"\"\" \n",
    "    # YOUR CODE HERE\n",
    "    \n",
    "    group = {\n",
    "    '$group': {'_id': '$doc_type', 'count': {'$sum': 1}}\n",
    "    }\n",
    "    \n",
    "    cursor = articles.aggregate([group])\n",
    "    \n",
    "    dct = {}\n",
    "    for c in cursor:\n",
    "        dct[c['_id']] = c['count']\n",
    "\n",
    "    return dct\n"
   ]
  },
  {
   "cell_type": "markdown",
   "metadata": {
    "tags": [
     "q5"
    ]
   },
   "source": [
    "###  5)\n",
    "\n",
    "Do longer articles (in number of pages) have more references?\n",
    "\n",
    "Task:\n",
    "\n",
    "Return an histogram dictionary with the following specification:\n",
    "\n",
    "{\n",
    "\"1-5\" : Average references of articles between 1 and 5 pages inclusive\n",
    "\n",
    "\"6-10\" : Average references of articles between 6 and 10 pages inclusive\n",
    "\n",
    "\"11-15\" : Average references of articles between 11 and 15 pages inclusive\n",
    "\n",
    "\"16-20\" : Average references of articles between 16 and 20 pages inclusive\n",
    "\n",
    "\"21-25\" : Average references of articles between 21 and 25 pages inclusive\n",
    "\n",
    "\"26-30\" : Average references of articles between 26 and 30 pages inclusive\n",
    "\n",
    "\">30\" : Average references of articles with more than 30 pages\n",
    "}\n",
    "\n",
    "A fellow data scientist of your team has found that some articles have no 'references' field, while others have unusually large page numbers. The Management decides that for this task you should\n",
    "\n",
    "* Ignore articles that are missing the 'references' field\n",
    "* Ignore articles with page numbers greater than 6 digits\n",
    "* Ignore articles with page numbers that cannot be parsed to integers (e.g. 900467-12)\n",
    "* Remember articles that start and end at the same page have 1 page, not zero!\n",
    "\n",
    "\n",
    "[10 points]\n"
   ]
  },
  {
   "cell_type": "code",
   "execution_count": 7,
   "metadata": {
    "ExecuteTime": {
     "end_time": "2021-12-16T00:35:14.027160Z",
     "start_time": "2021-12-16T00:35:13.993297Z"
    },
    "nbgrader": {
     "grade": false,
     "grade_id": "get_percentage_sent_on_weekend",
     "locked": false,
     "schema_version": 1,
     "solution": true
    },
    "scrolled": false,
    "tags": [
     "a5"
    ]
   },
   "outputs": [],
   "source": [
    "\n",
    "def length_vs_references(articles):\n",
    "    \"\"\"\n",
    "    :param collection A PyMongo collection object\n",
    "    :return dictionary in the form described above\n",
    "    \"\"\"    \n",
    "    pageReg = {\n",
    "        '$addFields': {\n",
    "          'resultObject': {\n",
    "\n",
    "              \"$and\": [\n",
    "              {\n",
    "                '$regexMatch': {\n",
    "                'input': \"$page_start\",\n",
    "                'regex': '^[0-9]{1,6}$',\n",
    "                'options': \"m\"\n",
    "                }\n",
    "              },\n",
    "              {\n",
    "                '$regexMatch': {\n",
    "                'input': \"$page_end\",\n",
    "                'regex': '^[0-9]{1,6}$',\n",
    "                'options': \"m\"\n",
    "                }\n",
    "              }\n",
    "            ]\n",
    "          }\n",
    "        }\n",
    "      }\n",
    "\n",
    "\n",
    "\n",
    "    match = {\n",
    "            \"$match\": {\n",
    "                \"resultObject\": True,\n",
    "                  \"references\": {\n",
    "                      \"$exists\": True\n",
    "                  }\n",
    "            }\n",
    "        }\n",
    "\n",
    "    # Define stage to set converted values\n",
    "    toIntStage = {\n",
    "       '$set': {\n",
    "          'page_start': { '$toInt': \"$page_start\"},\n",
    "          'page_end': { '$toInt': \"$page_end\"},\n",
    "       }\n",
    "    }\n",
    "\n",
    "\n",
    "    # Define stage to calculate number of pages by subtracting\n",
    "    calculationStage = {\n",
    "       '$project': { 'doc_type': 1, 'numberOfRef': {'$size': \"$references\"},\n",
    "                    'pages': {\n",
    "                        '$add' : [{'$subtract': [ \"$page_end\", \"$page_start\" ]}, 1]\n",
    "                   } \n",
    "            }\n",
    "    }\n",
    "    \n",
    "    \n",
    "    \n",
    "    bucket = {\n",
    "            '$bucket': {\n",
    "              'groupBy': \"$pages\",\n",
    "              'boundaries': [ 1, 6, 11, 16, 21, 26, 31 ], \n",
    "              'default': \">30\",\n",
    "                'output': {\n",
    "                        \"average\": {\n",
    "                            \"$avg\": \"$numberOfRef\"\n",
    "                        }\n",
    "                }\n",
    "            }\n",
    "        }\n",
    "    \n",
    "    project = {\n",
    "        '$project': {\n",
    "            '_id': 1,\n",
    "            'average': {\n",
    "                '$round': ['$average', 3]\n",
    "            }\n",
    "        }\n",
    "    }\n",
    "    \n",
    "\n",
    "    cursor = articles.aggregate([pageReg, match, toIntStage, calculationStage, bucket, project])\n",
    "\n",
    "    hist = {}\n",
    "\n",
    "    for c in cursor:\n",
    "        try:\n",
    "            hist[str(c['_id']) + \"-\" + str(c['_id'] + 4)] = c['average']\n",
    "        except:\n",
    "            hist[c['_id']] = c['average']\n",
    "            \n",
    "    return hist\n"
   ]
  },
  {
   "cell_type": "markdown",
   "metadata": {
    "tags": [
     "q6"
    ]
   },
   "source": [
    "###  6)\n",
    "\n",
    "Being the competent data scientist you are, you remember that before sending the results to The Management you  should be verify that they are meaningful and not affected by data quality. Can you trust these averages are not affected by outliers?\n",
    "\n",
    "Task:\n",
    "\n",
    "Write a function to return for each article length range a list of outliers, that is,  articles with a z-score of number of references greater or equal than 3 ((https://www.statisticshowto.com/probability-and-statistics/z-score/)) \n",
    "\n",
    "Note that we say \"for each article length range\", therefore, z-score needs to be computed using the mean and stdev  of the provided article lengths. For Standard Deviation in Mongo, use https://docs.mongodb.com/v4.4/reference/operator/aggregation/stdDevPop/\n",
    "\n",
    "Example outpust is provided in a comment in the function\n",
    "\n",
    "[10 points]\n"
   ]
  },
  {
   "cell_type": "code",
   "execution_count": 8,
   "metadata": {
    "ExecuteTime": {
     "end_time": "2021-12-16T00:35:14.075860Z",
     "start_time": "2021-12-16T00:35:14.032696Z"
    },
    "tags": [
     "a6"
    ]
   },
   "outputs": [],
   "source": [
    "def get_reference_outliers(articles):\n",
    "    \"\"\"\n",
    "    :param articles A PyMongo collection object\n",
    "    :return Dictionary of the form described below:\n",
    "     {\"1-5\" : {'outliers':[  \n",
    "             {          \n",
    "            id: article_id,           \n",
    "            num_references: number of references,           \n",
    "            z-score: z-score\n",
    "          }, ... and so on...], \n",
    "     \"6-10\" : {'outliers':[  \n",
    "             {          \n",
    "            id: article_id,           \n",
    "            num_references: number of references,           \n",
    "            z-score: z-score\n",
    "          }, ... and so on...] ,\n",
    "    .... and so on.....\n",
    "       }  \n",
    "    \"\"\"\n",
    "    \n",
    "    p1 = {\n",
    "        '$project': {\n",
    "            'result': {\n",
    "                '$and': [\n",
    "                    {\n",
    "                        '$regexMatch': {\n",
    "                            'input': \"$page_start\",\n",
    "                            'regex': '^[0-9]{1,6}$',\n",
    "                            'options': \"m\"\n",
    "                        }\n",
    "                    },{\n",
    "                        '$regexMatch': {\n",
    "                            'input': \"$page_end\",\n",
    "                            'regex': '^[0-9]{1,6}$',\n",
    "                            'options': \"m\"\n",
    "                        }\n",
    "                    }\n",
    "                ]\n",
    "            }, \n",
    "            'references': '$references',\n",
    "            'page_start': '$page_start',\n",
    "            'page_end': '$page_end',\n",
    "            'id' : '$id'\n",
    "        }\n",
    "    }\n",
    "    \n",
    "    m1 = {'$match': {'references': { '$exists' : True}, 'result' : True }}\n",
    "    \n",
    "    p2 = {\n",
    "        '$project': {\n",
    "            'pages': {\n",
    "                '$add': [{'$subtract': [{'$toLong': '$page_end'}, {'$toLong': '$page_start'}]}, 1]\n",
    "            },\n",
    "            'numberOfRef' : { '$size' : '$references'}, \n",
    "            'id' : '$id'\n",
    "        }\n",
    "    }\n",
    "    \n",
    "    bucketByRange = {\n",
    "        '$bucket': {\n",
    "            'groupBy': \"$pages\",\n",
    "            'boundaries': [1, 6, 11, 16, 21, 26, 31],\n",
    "            'default': \">30\",\n",
    "            'output': {\n",
    "                'stddev': {\n",
    "                    '$stdDevPop':'$numberOfRef'\n",
    "                },\n",
    "                'mean': {\n",
    "                    '$avg': '$numberOfRef'\n",
    "                },\n",
    "                'articles': {\n",
    "                    '$push': {\n",
    "                        'id': '$id',\n",
    "                        'numberOfRef': '$numberOfRef'\n",
    "                    }\n",
    "                }\n",
    "            }\n",
    "        }\n",
    "    }\n",
    "    \n",
    "    u1= {\n",
    "        '$unwind': '$articles'\n",
    "    }\n",
    "    \n",
    "    p3 = {\n",
    "        '$project': {\n",
    "            '_id': 1, \n",
    "            'mean': '$mean', \n",
    "            'stdDev': '$stddev',\n",
    "            'zscore': { \n",
    "                '$divide': [ {'$subtract': [{'$toInt': '$articles.numberOfRef'}, {'$toInt': '$mean'}]}, {'$toInt': '$stddev'}]\n",
    "            },\n",
    "            'numberOfRef' : '$articles.numberOfRef',\n",
    "            'id' :'$articles.id'\n",
    "        }\n",
    "    }\n",
    "    \n",
    "    m2 = {'$match': {'zscore' : {'$gte' : 3}}}\n",
    "    \n",
    "    g1 = {\n",
    "        '$group': {\n",
    "            '_id': '$_id',\n",
    "            'outliers': {\n",
    "                '$push': { \n",
    "                    'id' : '$id',\n",
    "                    'num_references': '$numberOfRef',\n",
    "                    'z-score': { \n",
    "                        '$round': ['$zscore',3]\n",
    "                    }\n",
    "                }\n",
    "            }\n",
    "        }\n",
    "    }\n",
    "    \n",
    "    sort = { \n",
    "        '$sort': {\n",
    "            '_id': 1\n",
    "        }\n",
    "    }\n",
    "    \n",
    "    cursor = articles.aggregate([p1, m1, p2, bucketByRange, u1, p3, m2, g1, sort], allowDiskUse = True)\n",
    "    \n",
    "    hist = {\n",
    "        \"1-5\": {},\n",
    "        \"6-10\": {},\n",
    "        \"11-15\": {},\n",
    "        \"16-20\": {},\n",
    "        \"21-25\": {},\n",
    "        \"26-30\": {},\n",
    "        \">30\": {}\n",
    "    }\n",
    "    for c in cursor:\n",
    "        try:\n",
    "            hist[str(c['_id']) + '-' + str(c['_id'] + 4)]['outliers'] = c['outliers']\n",
    "        except:\n",
    "            hist[str(c['_id'])]['outliers'] = c['outliers']\n",
    "            \n",
    "    return hist\n"
   ]
  },
  {
   "cell_type": "markdown",
   "metadata": {
    "tags": [
     "q7"
    ]
   },
   "source": [
    "### 7) \n",
    "\n",
    "What are the collaborators of an author? \n",
    "\n",
    "Task:\n",
    "\n",
    "Write a function that receives as input an author id and returns a list of authors that have at least one article co-authored with the input author. \n",
    "    \n",
    "Notes:\n",
    "* Assume authors are uniquely identified by their ids.\n",
    "* Affiliations are in the 'org' field of the author subdocuments, you need to rename that field in your output to conform to the expected format.\n",
    "* Sometimes affiliations come together in the same string value instead of different documents e.g. \"University of Southampton and University of Bournemouth\", consider this case as a single affiliation.\n",
    "* Remember a dictionary does not have an ordering in its keys\n",
    "* Some articles list authors only with name, without affiliation. Include this in your answer as a dictionary with a single key 'name'\n",
    "* Example output is provided in the definition of the function\n",
    "\n",
    "\n",
    "[8 points]\n",
    "\n",
    "\n"
   ]
  },
  {
   "cell_type": "code",
   "execution_count": 9,
   "metadata": {
    "ExecuteTime": {
     "end_time": "2021-12-16T00:35:14.115507Z",
     "start_time": "2021-12-16T00:35:14.081152Z"
    },
    "tags": [
     "a7"
    ]
   },
   "outputs": [],
   "source": [
    "\n",
    "def get_collaborators(articles,author_id):\n",
    "    \"\"\"\n",
    "    Input: articles: PyMongo collection of articles\n",
    "        author_id : id of author\n",
    "    Output: List of collaborators. \n",
    "    Example output:\n",
    "    [\n",
    "    {'id': 2942936634,  'names': [\n",
    "           {'name': 'Lior Kovalio',\n",
    "           'affiliation': 'The Hebrew Univ. of Jerusalem, Jerusalem, Israel'},\n",
    "           {'name' : 'Lior Kovalio'}\n",
    "           ]\n",
    "    },\n",
    "    {'id': 2231056490, 'names': [\n",
    "           {'name': 'Gustavo F. Tondello', \n",
    "           'affiliation': 'University of Waterloo'},\n",
    "           { 'name': 'Gustavo F. Tondello', \n",
    "           'affiliation': 'Federal University of Santa Catarina'}\n",
    "           ]\n",
    "    },\n",
    "    {'id': 19031441 , 'names': [\n",
    "                  {'affiliation': 'Hebrew University of Jerusalem, Israel / '\n",
    "                            'Microsoft Research, Israel#TAB#',    \n",
    "                    'name': 'Noam Nisan'},\n",
    "                   {'affiliation': 'The Hebrew University of Jerusalem, Rachel & '\n",
    "                            'Selim Benin School of Computer Science & '\n",
    "                            'Engineering and Federmann Center for the Study of '\n",
    "                            'Rationality, Israel',\n",
    "                     'name': 'Noam Nisan'} \n",
    "                            ]\n",
    "     }\n",
    "     ]    \n",
    "    \"\"\"\n",
    "    \n",
    "    p1 = {\n",
    "        '$project': {\n",
    "            'authors': 1\n",
    "        }\n",
    "    }\n",
    "    \n",
    "    m1 = {\n",
    "        '$match': {\n",
    "            'authors.id': author_id\n",
    "        }\n",
    "    }\n",
    "\n",
    "\n",
    "    u2 = { '$unwind' : '$authors'}\n",
    "    \n",
    "    group = {\n",
    "        '$group': {\n",
    "            '_id': '$authors.id',\n",
    "            'names': {\n",
    "                '$addToSet': {\n",
    "                    'name': '$authors.name',\n",
    "                    'affiliation': '$authors.org'\n",
    "                }\n",
    "            }\n",
    "        }\n",
    "    }\n",
    "    \n",
    "    m2 = {\n",
    "        '$match': {\n",
    "            '_id': {\n",
    "                '$ne': author_id\n",
    "            }\n",
    "        }\n",
    "    }\n",
    "\n",
    "    cursor = articles.aggregate([p1, m1, u2, group, m2])\n",
    "    \n",
    "    return list(cursor)\n"
   ]
  },
  {
   "cell_type": "markdown",
   "metadata": {
    "tags": [
     "q8"
    ]
   },
   "source": [
    "### 8)\n",
    "\n",
    "The Management anticipates that several queries based on authors and their connections will be required in the near future. You have been asked to take the necessary steps to ensure these queries are easier to express and faster to perform.\n",
    "\n",
    "Task : Create a collection named authors containing for each author a document with the following fields:\n",
    " * _id: author's id\n",
    " * name_affiliations: array of pairs (name ,affiliation) associated to _id\n",
    " * articles: array of artilcle ids authored by author with id = _id\n",
    " * collaborators: array of ids of collaborators, other authors that have written at least one article with _id\n",
    "\n",
    "We provide an authors.json file with a sample of the expected output. This file is in a slightly different format than articles.json, to load it, you need to include the --jsonArray option to your mongoimport command (see the documentation: https://docs.mongodb.com/database-tools/mongoimport/#cmdoption-mongoimport-jsonarray)\n",
    "\n",
    "[10 points]"
   ]
  },
  {
   "cell_type": "code",
   "execution_count": 21,
   "metadata": {
    "ExecuteTime": {
     "end_time": "2021-12-16T00:43:13.969804Z",
     "start_time": "2021-12-16T00:41:43.067194Z"
    },
    "tags": [
     "a8"
    ]
   },
   "outputs": [],
   "source": [
    "def create_authors_collection(articles):\n",
    "    \"\"\"\n",
    "    :param: articles collection\n",
    "    : output: Pymongo cursor of the newly created authors collection\n",
    "    {\n",
    "     '_id': author's id ,\n",
    "     'name_affiliations': array of  {name: name, affiliation: affiliation} associated to author's id ,\n",
    "      'articles': array of article_ids authored by this author id ,\n",
    "      'collaborators' : Array of ids of collaborators\n",
    "    }\n",
    "     Sample in authors.json\n",
    "    \"\"\"\n",
    "    \n",
    "    db.authors.drop()\n",
    "    \n",
    "    p1 = {\n",
    "        '$project': {\n",
    "            'id': 1,\n",
    "            'authors': 1,\n",
    "            'coauth': '$authors.id',\n",
    "        }\n",
    "    }\n",
    "\n",
    "    u1 = { '$unwind' : '$coauth'}\n",
    "\n",
    "    u2 = { '$unwind': '$authors'}\n",
    "\n",
    "    g1 = {\n",
    "        '$group': {\n",
    "            '_id': '$authors.id',\n",
    "            'names_affiliations': {\n",
    "                '$addToSet': {\n",
    "                    'name': '$authors.name',\n",
    "                    'affiliation': '$authors.org'\n",
    "                }\n",
    "            },\n",
    "            'articles': {\n",
    "                '$addToSet': '$id'\n",
    "            },\n",
    "            'collaborators': {\n",
    "                '$addToSet': {\n",
    "                    '$cond': [ {'$eq': ['$coauth', '$authors.id']}, '$$REMOVE', '$coauth' ]\n",
    "                }\n",
    "            }\n",
    "        }\n",
    "    }\n",
    "    \n",
    "    createCollection = {\n",
    "        '$out' : 'authors'\n",
    "    } \n",
    "    documents = articles.aggregate([p1, u1, u2, g1, createCollection], allowDiskUse=True)\n",
    "    \n",
    "    \n",
    "create_authors_collection(articles)\n",
    "authors = get_collection('coursework','authors')"
   ]
  },
  {
   "cell_type": "markdown",
   "metadata": {
    "tags": [
     "a",
     "q9"
    ]
   },
   "source": [
    "### 9)\n",
    "\n",
    "\n",
    "The Management is investigating the ties of authors with collaborators of different countries. They would like to know for a given author, to how many authors of the same country they could reach through colleagues of that country\n",
    "\n",
    "Task:\n",
    "\n",
    "Given an author id and the name of a country, return the ids of the authors that match the following conditions:\n",
    " 1) have at least one affiliation that includes the input country name\n",
    " 2) there is a path between this author and the input author where all nodes match condition (1)\n",
    " 3) at a distance of at most 3 from the input author id in the graph of co-authorship\n",
    "\n",
    "\n",
    "Notes:\n",
    "\n",
    "* Do not include authors without affiliation, or affiliations that do not explicitly include the name of the country. Consider those as not matching the query. \n",
    "\n",
    "* If you are stuck with question 8) you can use the authors.json sample provided for question 8 for development of questions 9). We will mark questions 9) by running them on the actual answer of Q8. Do note the actual answer of Q8 is much larger than the sample, take this in consideration when designing your solutions for Q9.\n",
    "\n",
    "* Watch out for authors with many articles (thus, a large network of collaborators)... They may consume all your memory...\n",
    "\n",
    "\n",
    "[10 points]\n",
    "\n"
   ]
  },
  {
   "attachments": {
    "Q8-example.png": {
     "image/png": "[encoded data removed]"
    }
   },
   "cell_type": "markdown",
   "metadata": {
    "tags": [
     "q9"
    ]
   },
   "source": [
    "![Q8-example.png](attachment:Q8-example.png)\n"
   ]
  },
  {
   "cell_type": "code",
   "execution_count": 11,
   "metadata": {
    "ExecuteTime": {
     "end_time": "2021-12-16T00:39:20.663523Z",
     "start_time": "2021-12-16T00:39:20.655150Z"
    },
    "tags": [
     "a9"
    ]
   },
   "outputs": [],
   "source": [
    "\n",
    "def get_network(authors,author_id,country):\n",
    "    \"\"\"\n",
    "    Input: Authors collection, author_id, String country\n",
    "    Output: List of ids of authors at three or less hops of distance with an affiliation that includes 'country'\n",
    "    \"\"\"\n",
    "    \n",
    "    m1 = {\n",
    "        '$match': {\n",
    "            '_id': author_id\n",
    "        }\n",
    "    }\n",
    "    \n",
    "    lookup = {\n",
    "        '$graphLookup': {\n",
    "            'from': \"authors\",\n",
    "            'startWith': \"$collaborators\",\n",
    "            'connectFromField': \"collaborators\",\n",
    "            'connectToField': \"_id\",\n",
    "            'as': \"colabs\",\n",
    "            'restrictSearchWithMatch': { \n",
    "                \"names_affiliations.affiliation\" : {\n",
    "                    '$regex': '.*' + country + '.*',\n",
    "                    '$options': 'i'\n",
    "                }\n",
    "            },\n",
    "            'maxDepth': 2\n",
    "        }        \n",
    "    }\n",
    "    \n",
    "    project= {\n",
    "        '$project': {\n",
    "            '_id': '$colabs._id'\n",
    "        }\n",
    "    }\n",
    "\n",
    "    cursor = authors.aggregate([m1, lookup, project])\n",
    "    \n",
    "    lst = []\n",
    "    for c in cursor:\n",
    "        lst.extend(c['_id'])\n",
    "    return lst"
   ]
  },
  {
   "cell_type": "markdown",
   "metadata": {
    "tags": [
     "q10"
    ]
   },
   "source": [
    "### 10)\n",
    "\n",
    "The Management wants to know what articles are more important in the field of Machine Learning (look at the \"fos\" field for that). They know that papers in the references field may be from years previous to the ones in your dataset, so they would also like to know what is the most important paper within that subset published in each of the years you have in your dataset (2017,2018,2019). They want to use in-degree centrality as measure of importance.\n",
    "\n",
    "Task:\n",
    "\n",
    "Write a function that filters the subset of \"Machine learning\" articles and from it, compute the article with the highest in-degree centrality, both overall, and for articles published in each of the 2017, 2018 and 2019 years. \n",
    "\n",
    "Example output is provided as a comment in the function.\n",
    "\n",
    "\n",
    "[10 points]\n"
   ]
  },
  {
   "cell_type": "code",
   "execution_count": 12,
   "metadata": {
    "ExecuteTime": {
     "end_time": "2021-12-16T00:39:20.685839Z",
     "start_time": "2021-12-16T00:39:20.668396Z"
    },
    "tags": [
     "a10"
    ]
   },
   "outputs": [],
   "source": [
    "\n",
    "def machine_learning_central(articles):\n",
    "    \"\"\"\n",
    "    Input: Articles collections.\n",
    "    Output : {\n",
    "       'overall' : (id_article_highest_indegree_centrality),\n",
    "       '2017' : id_article_highest_indegree_centrality published year 2017,\n",
    "       '2018' : id_article_highest_indegree_centrality published year 2018,\n",
    "       '2019' : id_article_highest_indegree_centrality published year 2019,\n",
    "    }\n",
    "    In the case that for a given year, no article has been referenced (and thus, all centrality values are zero), \n",
    "    put None as the value of that year, example:\n",
    "    {\n",
    "       'overall' : id_article_highest_indegree_centrality,\n",
    "       '2017' : id_article_highest_indegree_centrality of year 2017,\n",
    "       '2018' : id_article_highest_indegree_centrality of year 2018,\n",
    "       '2019' : None,\n",
    "    }\n",
    "    \"\"\"\n",
    "    \n",
    "    m1 = {\n",
    "        '$match': {\n",
    "            \"$and\": [{\n",
    "                'fos': { \n",
    "                    '$exists' : True\n",
    "                } \n",
    "            }, {\n",
    "                'references': { \n",
    "                    '$ne': None\n",
    "                }\n",
    "            }]\n",
    "        }\n",
    "    }\n",
    "    \n",
    "    u1 = {\n",
    "        '$unwind': '$fos'\n",
    "    }\n",
    "    \n",
    "    m2 = {\n",
    "        '$match': {\n",
    "            'fos.name': {\n",
    "                '$regex': 'machine learning',\n",
    "                '$options' : 'i'\n",
    "            }\n",
    "        }\n",
    "    }\n",
    "    \n",
    "    g1 = {\n",
    "        '$group': {\n",
    "            '_id': '$year',\n",
    "            'articleIdRef': {\n",
    "                '$addToSet': { \n",
    "                    'id': '$id',\n",
    "                    'references': '$references'\n",
    "                }\n",
    "            }\n",
    "        }\n",
    "    }\n",
    "    \n",
    "    u2 = {\n",
    "        '$unwind': {\n",
    "            'path': '$articleIdRef'\n",
    "        }\n",
    "    }\n",
    "    \n",
    "    u3 = {\n",
    "        '$unwind': {\n",
    "            'path': '$articleIdRef.references'\n",
    "        }\n",
    "    }\n",
    "\n",
    "    p1 = {\n",
    "        '$project': {\n",
    "            '_id':0, \n",
    "            'year':'$_id', \n",
    "            'id' : '$articleIdRef.id', \n",
    "            'references' : '$articleIdRef.references'\n",
    "        }\n",
    "    }\n",
    "    \n",
    "    cursor = list(articles.aggregate([m1,u1,m2,g1,u2,u3,p1]))\n",
    "    df = pd.DataFrame(cursor)\n",
    "    \n",
    "    finalDict = {}\n",
    "    \n",
    "    finalDict['overall'] = calculateInDegreeCentrality(df,'references','id')\n",
    "    finalDict['2017'] = calculateInDegreeCentrality(df[df['year'] == 2017],'references','id')\n",
    "    finalDict['2018'] = calculateInDegreeCentrality(df[df['year'] == 2018],'references','id')\n",
    "    finalDict['2019'] = calculateInDegreeCentrality(df[df['year'] == 2019],'references','id')\n",
    "    return finalDict\n",
    "\n",
    "         \n",
    "def calculateInDegreeCentrality(df,references,articleId):\n",
    "    diGraph = nx.from_pandas_edgelist(df,source=articleId,target=references, edge_attr=True, create_using=nx.DiGraph())\n",
    "    centralityDegree = nx.in_degree_centrality(diGraph)\n",
    "    max_value = max(centralityDegree.values())\n",
    "    max_key = [i for i in centralityDegree.keys() if centralityDegree[i]==max_value]\n",
    "    \n",
    "    return max_key[0]\n"
   ]
  },
  {
   "cell_type": "markdown",
   "metadata": {},
   "source": [
    "## Task 2\n",
    "This task will assess your ability to use the Hadoop Streaming API and MapReduce to process data. For each of the questions below, you are expected to write two python scripts, one for the Map phase and one for the Reduce phase. You are also expected to provide the correct parameters to the `hadoop` command to run the MapReduce process. Write down your answers in the specified cells below.\n",
    "\n",
    "You will use the same dataset of articles that you used for task 1.\n",
    "\n",
    "To help you, `%%writefile` has been added to the top of the cells, automatically writing them to \"mapper.py\" and \"reducer.py\" respectively when the cells are run.\n",
    "\n",
    "No need to return a Python dictionary, the expected output here is the output file of Hadoop, named \"output\" for question1 and \"output2\" for question (do not change that part of the question)"
   ]
  },
  {
   "cell_type": "markdown",
   "metadata": {
    "tags": [
     "q11"
    ]
   },
   "source": [
    "### 1) \n",
    "\n",
    "Answer Question 2) of task 1 using the MapReduce paradigm (repeated below for your convenience)\n",
    "\n",
    "Return the set of publishers of articles that are missing the doc_type property or have it equal to the empty string. \n",
    "\n",
    "[8 points]"
   ]
  },
  {
   "cell_type": "code",
   "execution_count": 13,
   "metadata": {
    "ExecuteTime": {
     "end_time": "2021-12-16T00:39:20.698466Z",
     "start_time": "2021-12-16T00:39:20.688213Z"
    },
    "tags": [
     "mapper11"
    ]
   },
   "outputs": [
    {
     "name": "stdout",
     "output_type": "stream",
     "text": [
      "Overwriting mapper.py\n"
     ]
    }
   ],
   "source": [
    "%%writefile mapper.py\n",
    "#!/usr/bin/env python\n",
    "#Answer for mapper.py\n",
    "\n",
    "import sys\n",
    "import json\n",
    "\n",
    "for line in sys.stdin:\n",
    "    j = json.loads(line.strip())\n",
    "    try:\n",
    "        if j['doc_type'] == '':\n",
    "            try:\n",
    "                print(j['publisher'] + \"\\t1\")\n",
    "            except:\n",
    "                print(j['pulisher'] + \"\\t1\")\n",
    "    except:\n",
    "            try:\n",
    "                print(j['publisher'] + \"\\t1\")\n",
    "            except:\n",
    "                print(j['pulisher'] + \"\\t1\")"
   ]
  },
  {
   "cell_type": "code",
   "execution_count": 14,
   "metadata": {
    "ExecuteTime": {
     "end_time": "2021-12-16T00:39:20.706205Z",
     "start_time": "2021-12-16T00:39:20.700963Z"
    },
    "tags": [
     "reducer11"
    ]
   },
   "outputs": [
    {
     "name": "stdout",
     "output_type": "stream",
     "text": [
      "Overwriting reducer.py\n"
     ]
    }
   ],
   "source": [
    "%%writefile reducer.py\n",
    "#!/usr/bin/env python\n",
    "# REDUCER\n",
    "\n",
    "import sys\n",
    "from collections import defaultdict\n",
    "\n",
    "input_pairs = sys.stdin.readlines()\n",
    "\n",
    "accumulator = set()\n",
    "for row in input_pairs:\n",
    "    \n",
    "    key_value_pair = row.split(\"\\t\", 1)\n",
    "    if len(key_value_pair) != 2:\n",
    "        continue\n",
    "    \n",
    "    word = key_value_pair[0]\n",
    "\n",
    "    accumulator.add(word.strip())\n",
    "    \n",
    "for word in accumulator:\n",
    "    print(word)\n",
    "\n",
    "\n"
   ]
  },
  {
   "cell_type": "code",
   "execution_count": 15,
   "metadata": {
    "ExecuteTime": {
     "end_time": "2021-12-16T00:40:10.869463Z",
     "start_time": "2021-12-16T00:39:20.709314Z"
    }
   },
   "outputs": [
    {
     "name": "stderr",
     "output_type": "stream",
     "text": [
      "21/12/16 00:39:24 INFO Configuration.deprecation: session.id is deprecated. Instead, use dfs.metrics.session-id\n",
      "21/12/16 00:39:24 INFO jvm.JvmMetrics: Initializing JVM Metrics with processName=JobTracker, sessionId=\n",
      "21/12/16 00:39:24 INFO jvm.JvmMetrics: Cannot initialize JVM Metrics with processName=JobTracker, sessionId= - already initialized\n",
      "21/12/16 00:39:24 INFO mapred.FileInputFormat: Total input files to process : 1\n",
      "21/12/16 00:39:24 INFO mapreduce.JobSubmitter: number of splits:37\n",
      "21/12/16 00:39:24 INFO mapreduce.JobSubmitter: Submitting tokens for job: job_local878872637_0001\n",
      "21/12/16 00:39:25 INFO mapred.LocalDistributedCacheManager: Localized file:/home/comp6235/Mongodb/mapper.py as file:/tmp/hadoop-comp6235/mapred/local/1639615165125/mapper.py\n",
      "21/12/16 00:39:25 INFO mapred.LocalDistributedCacheManager: Localized file:/home/comp6235/Mongodb/reducer.py as file:/tmp/hadoop-comp6235/mapred/local/1639615165126/reducer.py\n",
      "21/12/16 00:39:25 INFO mapreduce.Job: The url to track the job: http://localhost:8080/\n",
      "21/12/16 00:39:25 INFO mapreduce.Job: Running job: job_local878872637_0001\n",
      "21/12/16 00:39:25 INFO mapred.LocalJobRunner: OutputCommitter set in config null\n",
      "21/12/16 00:39:25 INFO mapred.LocalJobRunner: OutputCommitter is org.apache.hadoop.mapred.FileOutputCommitter\n",
      "21/12/16 00:39:25 INFO output.FileOutputCommitter: File Output Committer Algorithm version is 1\n",
      "21/12/16 00:39:25 INFO output.FileOutputCommitter: FileOutputCommitter skip cleanup _temporary folders under output directory:false, ignore cleanup failures: false\n",
      "21/12/16 00:39:25 INFO mapred.LocalJobRunner: Waiting for map tasks\n",
      "21/12/16 00:39:25 INFO mapred.LocalJobRunner: Starting task: attempt_local878872637_0001_m_000000_0\n",
      "21/12/16 00:39:25 INFO output.FileOutputCommitter: File Output Committer Algorithm version is 1\n",
      "21/12/16 00:39:25 INFO output.FileOutputCommitter: FileOutputCommitter skip cleanup _temporary folders under output directory:false, ignore cleanup failures: false\n",
      "21/12/16 00:39:25 INFO mapred.Task:  Using ResourceCalculatorProcessTree : [ ]\n",
      "21/12/16 00:39:25 INFO mapred.MapTask: Processing split: file:/home/comp6235/Mongodb/articles.json:0+33554432\n",
      "21/12/16 00:39:25 INFO mapred.MapTask: numReduceTasks: 1\n",
      "21/12/16 00:39:25 INFO mapred.MapTask: (EQUATOR) 0 kvi 26214396(104857584)\n",
      "21/12/16 00:39:25 INFO mapred.MapTask: mapreduce.task.io.sort.mb: 100\n",
      "21/12/16 00:39:25 INFO mapred.MapTask: soft limit at 83886080\n",
      "21/12/16 00:39:25 INFO mapred.MapTask: bufstart = 0; bufvoid = 104857600\n",
      "21/12/16 00:39:25 INFO mapred.MapTask: kvstart = 26214396; length = 6553600\n",
      "21/12/16 00:39:25 INFO mapred.MapTask: Map output collector class = org.apache.hadoop.mapred.MapTask$MapOutputBuffer\n",
      "21/12/16 00:39:25 INFO streaming.PipeMapRed: PipeMapRed exec [/home/comp6235/Mongodb/././mapper.py]\n",
      "21/12/16 00:39:25 INFO Configuration.deprecation: mapred.work.output.dir is deprecated. Instead, use mapreduce.task.output.dir\n",
      "21/12/16 00:39:25 INFO Configuration.deprecation: map.input.start is deprecated. Instead, use mapreduce.map.input.start\n",
      "21/12/16 00:39:25 INFO Configuration.deprecation: mapred.task.is.map is deprecated. Instead, use mapreduce.task.ismap\n",
      "21/12/16 00:39:25 INFO Configuration.deprecation: mapred.task.id is deprecated. Instead, use mapreduce.task.attempt.id\n",
      "21/12/16 00:39:25 INFO Configuration.deprecation: mapred.tip.id is deprecated. Instead, use mapreduce.task.id\n",
      "21/12/16 00:39:25 INFO Configuration.deprecation: mapred.local.dir is deprecated. Instead, use mapreduce.cluster.local.dir\n",
      "21/12/16 00:39:25 INFO Configuration.deprecation: map.input.file is deprecated. Instead, use mapreduce.map.input.file\n",
      "21/12/16 00:39:25 INFO Configuration.deprecation: mapred.skip.on is deprecated. Instead, use mapreduce.job.skiprecords\n",
      "21/12/16 00:39:25 INFO Configuration.deprecation: map.input.length is deprecated. Instead, use mapreduce.map.input.length\n",
      "21/12/16 00:39:25 INFO Configuration.deprecation: mapred.job.id is deprecated. Instead, use mapreduce.job.id\n",
      "21/12/16 00:39:25 INFO Configuration.deprecation: user.name is deprecated. Instead, use mapreduce.job.user.name\n",
      "21/12/16 00:39:25 INFO Configuration.deprecation: mapred.task.partition is deprecated. Instead, use mapreduce.task.partition\n",
      "21/12/16 00:39:25 INFO streaming.PipeMapRed: R/W/S=1/0/0 in:NA [rec/s] out:NA [rec/s]\n",
      "21/12/16 00:39:25 INFO streaming.PipeMapRed: R/W/S=10/0/0 in:NA [rec/s] out:NA [rec/s]\n",
      "21/12/16 00:39:25 INFO streaming.PipeMapRed: R/W/S=100/0/0 in:NA [rec/s] out:NA [rec/s]\n",
      "21/12/16 00:39:25 INFO streaming.PipeMapRed: R/W/S=1000/0/0 in:NA [rec/s] out:NA [rec/s]\n",
      "21/12/16 00:39:26 INFO streaming.PipeMapRed: R/W/S=10000/0/0 in:NA [rec/s] out:NA [rec/s]\n",
      "21/12/16 00:39:26 INFO mapreduce.Job: Job job_local878872637_0001 running in uber mode : false\n",
      "21/12/16 00:39:26 INFO mapreduce.Job:  map 0% reduce 0%\n",
      "21/12/16 00:39:26 INFO streaming.PipeMapRed: Records R/W=23493/1\n",
      "21/12/16 00:39:26 INFO streaming.PipeMapRed: MRErrorThread done\n",
      "21/12/16 00:39:26 INFO streaming.PipeMapRed: mapRedFinished\n",
      "21/12/16 00:39:26 INFO mapred.LocalJobRunner: \n",
      "21/12/16 00:39:26 INFO mapred.MapTask: Starting flush of map output\n",
      "21/12/16 00:39:26 INFO mapred.MapTask: Spilling map output\n",
      "21/12/16 00:39:26 INFO mapred.MapTask: bufstart = 0; bufend = 6155; bufvoid = 104857600\n",
      "21/12/16 00:39:26 INFO mapred.MapTask: kvstart = 26214396(104857584); kvend = 26212400(104849600); length = 1997/6553600\n",
      "21/12/16 00:39:27 INFO mapred.MapTask: Finished spill 0\n",
      "21/12/16 00:39:27 INFO mapred.Task: Task:attempt_local878872637_0001_m_000000_0 is done. And is in the process of committing\n",
      "21/12/16 00:39:27 INFO mapred.LocalJobRunner: Records R/W=23493/1\n",
      "21/12/16 00:39:27 INFO mapred.Task: Task 'attempt_local878872637_0001_m_000000_0' done.\n",
      "21/12/16 00:39:27 INFO mapred.Task: Final Counters for attempt_local878872637_0001_m_000000_0: Counters: 17\n",
      "\tFile System Counters\n",
      "\t\tFILE: Number of bytes read=33698697\n",
      "\t\tFILE: Number of bytes written=649494\n",
      "\t\tFILE: Number of read operations=0\n",
      "\t\tFILE: Number of large read operations=0\n",
      "\t\tFILE: Number of write operations=0\n",
      "\tMap-Reduce Framework\n",
      "\t\tMap input records=23493\n",
      "\t\tMap output records=500\n",
      "\t\tMap output bytes=6155\n",
      "\t\tMap output materialized bytes=7162\n",
      "\t\tInput split bytes=93\n",
      "\t\tCombine input records=0\n",
      "\t\tSpilled Records=500\n",
      "\t\tFailed Shuffles=0\n",
      "\t\tMerged Map outputs=0\n",
      "\t\tGC time elapsed (ms)=0\n",
      "\t\tTotal committed heap usage (bytes)=220200960\n",
      "\tFile Input Format Counters \n",
      "\t\tBytes Read=33558528\n",
      "21/12/16 00:39:27 INFO mapred.LocalJobRunner: Finishing task: attempt_local878872637_0001_m_000000_0\n",
      "21/12/16 00:39:27 INFO mapred.LocalJobRunner: Starting task: attempt_local878872637_0001_m_000001_0\n",
      "21/12/16 00:39:27 INFO output.FileOutputCommitter: File Output Committer Algorithm version is 1\n",
      "21/12/16 00:39:27 INFO output.FileOutputCommitter: FileOutputCommitter skip cleanup _temporary folders under output directory:false, ignore cleanup failures: false\n",
      "21/12/16 00:39:27 INFO mapred.Task:  Using ResourceCalculatorProcessTree : [ ]\n",
      "21/12/16 00:39:27 INFO mapred.MapTask: Processing split: file:/home/comp6235/Mongodb/articles.json:33554432+33554432\n",
      "21/12/16 00:39:27 INFO mapred.MapTask: numReduceTasks: 1\n",
      "21/12/16 00:39:27 INFO mapred.MapTask: (EQUATOR) 0 kvi 26214396(104857584)\n",
      "21/12/16 00:39:27 INFO mapred.MapTask: mapreduce.task.io.sort.mb: 100\n",
      "21/12/16 00:39:27 INFO mapred.MapTask: soft limit at 83886080\n",
      "21/12/16 00:39:27 INFO mapred.MapTask: bufstart = 0; bufvoid = 104857600\n",
      "21/12/16 00:39:27 INFO mapred.MapTask: kvstart = 26214396; length = 6553600\n",
      "21/12/16 00:39:27 INFO mapred.MapTask: Map output collector class = org.apache.hadoop.mapred.MapTask$MapOutputBuffer\n",
      "21/12/16 00:39:27 INFO streaming.PipeMapRed: PipeMapRed exec [/home/comp6235/Mongodb/././mapper.py]\n",
      "21/12/16 00:39:27 INFO streaming.PipeMapRed: R/W/S=1/0/0 in:NA [rec/s] out:NA [rec/s]\n",
      "21/12/16 00:39:27 INFO streaming.PipeMapRed: R/W/S=10/0/0 in:NA [rec/s] out:NA [rec/s]\n",
      "21/12/16 00:39:27 INFO streaming.PipeMapRed: R/W/S=100/0/0 in:NA [rec/s] out:NA [rec/s]\n",
      "21/12/16 00:39:27 INFO streaming.PipeMapRed: R/W/S=1000/0/0 in:NA [rec/s] out:NA [rec/s]\n",
      "21/12/16 00:39:27 INFO mapreduce.Job:  map 100% reduce 0%\n",
      "21/12/16 00:39:27 INFO streaming.PipeMapRed: R/W/S=10000/0/0 in:NA [rec/s] out:NA [rec/s]\n",
      "21/12/16 00:39:27 INFO streaming.PipeMapRed: Records R/W=11792/1\n",
      "21/12/16 00:39:28 INFO streaming.PipeMapRed: MRErrorThread done\n",
      "21/12/16 00:39:28 INFO streaming.PipeMapRed: mapRedFinished\n",
      "21/12/16 00:39:28 INFO mapred.LocalJobRunner: \n",
      "21/12/16 00:39:28 INFO mapred.MapTask: Starting flush of map output\n",
      "21/12/16 00:39:28 INFO mapred.MapTask: Spilling map output\n",
      "21/12/16 00:39:28 INFO mapred.MapTask: bufstart = 0; bufend = 17923; bufvoid = 104857600\n",
      "21/12/16 00:39:28 INFO mapred.MapTask: kvstart = 26214396(104857584); kvend = 26208968(104835872); length = 5429/6553600\n",
      "21/12/16 00:39:28 INFO mapred.MapTask: Finished spill 0\n",
      "21/12/16 00:39:28 INFO mapred.Task: Task:attempt_local878872637_0001_m_000001_0 is done. And is in the process of committing\n",
      "21/12/16 00:39:28 INFO mapred.LocalJobRunner: Records R/W=11792/1\n",
      "21/12/16 00:39:28 INFO mapred.Task: Task 'attempt_local878872637_0001_m_000001_0' done.\n",
      "21/12/16 00:39:28 INFO mapred.Task: Final Counters for attempt_local878872637_0001_m_000001_0: Counters: 17\n",
      "\tFile System Counters\n",
      "\t\tFILE: Number of bytes read=67260709\n",
      "\t\tFILE: Number of bytes written=670171\n",
      "\t\tFILE: Number of read operations=0\n",
      "\t\tFILE: Number of large read operations=0\n",
      "\t\tFILE: Number of write operations=0\n",
      "\tMap-Reduce Framework\n",
      "\t\tMap input records=22779\n",
      "\t\tMap output records=1358\n",
      "\t\tMap output bytes=17923\n",
      "\t\tMap output materialized bytes=20645\n",
      "\t\tInput split bytes=93\n",
      "\t\tCombine input records=0\n",
      "\t\tSpilled Records=1358\n",
      "\t\tFailed Shuffles=0\n",
      "\t\tMerged Map outputs=0\n",
      "\t\tGC time elapsed (ms)=0\n",
      "\t\tTotal committed heap usage (bytes)=325582848\n",
      "\tFile Input Format Counters \n",
      "\t\tBytes Read=33558528\n",
      "21/12/16 00:39:28 INFO mapred.LocalJobRunner: Finishing task: attempt_local878872637_0001_m_000001_0\n",
      "21/12/16 00:39:28 INFO mapred.LocalJobRunner: Starting task: attempt_local878872637_0001_m_000"
     ]
    },
    {
     "data": {
      "text/html": [
       "<b>limit_output extension: Maximum message size of 10000 exceeded with 150364 characters</b>"
      ]
     },
     "metadata": {},
     "output_type": "display_data"
    }
   ],
   "source": [
    "%%bash\n",
    "#Hadoop command to run the map reduce.\n",
    "\n",
    "hadoop jar $HADOOP_HOME/share/hadoop/tools/lib/hadoop-streaming-*.jar \\\n",
    "-files mapper.py,reducer.py \\\n",
    "-input ./articles.json \\\n",
    "-mapper ./mapper.py \\\n",
    "-reducer ./reducer.py \\\n",
    "-output output"
   ]
  },
  {
   "cell_type": "code",
   "execution_count": 16,
   "metadata": {
    "ExecuteTime": {
     "end_time": "2021-12-16T00:40:10.880335Z",
     "start_time": "2021-12-16T00:40:10.872752Z"
    }
   },
   "outputs": [],
   "source": [
    "#Expected output format, list of publishers, one per line\n",
    "#Elsevier India\n",
    "#Springer Cham\n",
    "#UK Academy of Sciences\n",
    "#....\n",
    "\n"
   ]
  },
  {
   "cell_type": "markdown",
   "metadata": {
    "tags": [
     "q12"
    ]
   },
   "source": [
    "### 2) \n",
    "Answer Question 5) of task 1 using the MapReduce paradigm (repeated below for your convenience)\n",
    "\n",
    "Do longer articles (in number of pages) have more references?\n",
    "\n",
    "Task:\n",
    "\n",
    "Return an histogram dictionary with the following specification:\n",
    "\n",
    "{\n",
    "\"1-5\" : Average references of articles between 1 and 5 pages inclusive\n",
    "\n",
    "\"6-10\" : Average references of articles between 6 and 10 pages inclusive\n",
    "\n",
    "\"11-15\" : Average references of articles between 11 and 15 pages inclusive\n",
    "\n",
    "\"16-20\" : Average references of articles between 16 and 20 pages inclusive\n",
    "\n",
    "\"21-25\" : Average references of articles between 21 and 25 pages inclusive\n",
    "\n",
    "\"26-30\" : Average references of articles between 26 and 30 pages inclusive\n",
    "\n",
    "\">30\" : Average references of articles with more than 30 pages\n",
    "}\n",
    "\n",
    "A fellow data scientist of your team has found that some articles have no 'references' field, while others have unusually large page numbers. The Management decides that for this task you should\n",
    "\n",
    "* Ignore articles that are missing the 'references' field\n",
    "* Ignore articles with page numbers greater than 6 digits\n",
    "* Ignore articles with page numbers that cannot be parsed to integers (e.g. 900467-12)\n",
    "\n",
    "Clarifications:\n",
    "*) Articles that start and end at the same page have 1 page, not zero!\n",
    "\n",
    "\n",
    "[12 points]"
   ]
  },
  {
   "cell_type": "code",
   "execution_count": 17,
   "metadata": {
    "ExecuteTime": {
     "end_time": "2021-12-16T00:40:10.897560Z",
     "start_time": "2021-12-16T00:40:10.882757Z"
    },
    "tags": [
     "mapper12"
    ]
   },
   "outputs": [
    {
     "name": "stdout",
     "output_type": "stream",
     "text": [
      "Overwriting mapper2.py\n"
     ]
    }
   ],
   "source": [
    "%%writefile mapper2.py\n",
    "#!/usr/bin/env python\n",
    "#Answer for mapper.py\n",
    "\n",
    "import sys\n",
    "import json\n",
    "\n",
    "for line in sys.stdin:\n",
    "    j = json.loads(line.strip())\n",
    "    try:\n",
    "        pages = (int(j['page_end'].strip()) - int(j['page_start'].strip())) + 1\n",
    "        if pages > 0 and pages < 6:\n",
    "            print(\"1-5\\t\" + str(len(j['references'])))\n",
    "        elif pages > 5 and pages < 11:\n",
    "            print(\"6-10\\t\" + str(len(j['references'])))\n",
    "        elif pages > 10 and pages < 16:\n",
    "            print(\"11-15\\t\" + str(len(j['references'])))\n",
    "        elif pages > 15 and pages < 21:\n",
    "            print(\"16-20\\t\" + str(len(j['references'])))\n",
    "        elif pages > 20 and pages < 26:\n",
    "            print(\"21-25\\t\" + str(len(j['references'])))\n",
    "        elif pages > 25 and pages < 31:\n",
    "            print(\"26-30\\t\" + str(len(j['references'])))\n",
    "        else:\n",
    "            print(\">30\\t\" + str(len(j['references'])))\n",
    "    except:\n",
    "        continue"
   ]
  },
  {
   "cell_type": "code",
   "execution_count": 18,
   "metadata": {
    "ExecuteTime": {
     "end_time": "2021-12-16T00:40:10.930482Z",
     "start_time": "2021-12-16T00:40:10.899429Z"
    },
    "tags": [
     "reducer12"
    ]
   },
   "outputs": [
    {
     "name": "stdout",
     "output_type": "stream",
     "text": [
      "Overwriting reducer2.py\n"
     ]
    }
   ],
   "source": [
    "%%writefile reducer2.py\n",
    "#!/usr/bin/env python\n",
    "# REDUCER\n",
    "\n",
    "import sys\n",
    "from collections import defaultdict\n",
    "\n",
    "input_pairs = sys.stdin.readlines()\n",
    "\n",
    "accumulator = defaultdict(lambda: 0)\n",
    "accumulator2 = defaultdict(lambda: 0)\n",
    "\n",
    "for row in input_pairs:\n",
    "    \n",
    "    key_value_pair = row.split(\"\\t\", 1)\n",
    "    if len(key_value_pair) != 2:\n",
    "        continue\n",
    "    \n",
    "    word = key_value_pair[0]\n",
    "    if len(word.strip()) == 0:\n",
    "        continue\n",
    "    count = int(key_value_pair[1].strip())\n",
    "    \n",
    "    accumulator[word] = accumulator[word] + count\n",
    "    accumulator2[word] += 1\n",
    "    \n",
    "for key in [\"1-5\", \"6-10\", \"11-15\", \"16-20\", \"21-25\", \"26-30\", \">30\"]:\n",
    "    accumulator[key] = round(accumulator[key]/accumulator2[key], 3)\n",
    "    \n",
    "for (key, value) in accumulator.items():\n",
    "    print(key + \"\\t\" + str(value))\n"
   ]
  },
  {
   "cell_type": "code",
   "execution_count": 19,
   "metadata": {
    "ExecuteTime": {
     "end_time": "2021-12-16T00:41:11.646496Z",
     "start_time": "2021-12-16T00:40:10.932667Z"
    }
   },
   "outputs": [
    {
     "name": "stderr",
     "output_type": "stream",
     "text": [
      "21/12/16 00:40:14 INFO Configuration.deprecation: session.id is deprecated. Instead, use dfs.metrics.session-id\n",
      "21/12/16 00:40:14 INFO jvm.JvmMetrics: Initializing JVM Metrics with processName=JobTracker, sessionId=\n",
      "21/12/16 00:40:14 INFO jvm.JvmMetrics: Cannot initialize JVM Metrics with processName=JobTracker, sessionId= - already initialized\n",
      "21/12/16 00:40:14 INFO mapred.FileInputFormat: Total input files to process : 1\n",
      "21/12/16 00:40:14 INFO mapreduce.JobSubmitter: number of splits:37\n",
      "21/12/16 00:40:15 INFO mapreduce.JobSubmitter: Submitting tokens for job: job_local1851107055_0001\n",
      "21/12/16 00:40:15 INFO mapred.LocalDistributedCacheManager: Localized file:/home/comp6235/Mongodb/mapper2.py as file:/tmp/hadoop-comp6235/mapred/local/1639615215407/mapper2.py\n",
      "21/12/16 00:40:15 INFO mapred.LocalDistributedCacheManager: Localized file:/home/comp6235/Mongodb/reducer2.py as file:/tmp/hadoop-comp6235/mapred/local/1639615215408/reducer2.py\n",
      "21/12/16 00:40:16 INFO mapreduce.Job: The url to track the job: http://localhost:8080/\n",
      "21/12/16 00:40:16 INFO mapred.LocalJobRunner: OutputCommitter set in config null\n",
      "21/12/16 00:40:16 INFO mapreduce.Job: Running job: job_local1851107055_0001\n",
      "21/12/16 00:40:16 INFO mapred.LocalJobRunner: OutputCommitter is org.apache.hadoop.mapred.FileOutputCommitter\n",
      "21/12/16 00:40:16 INFO output.FileOutputCommitter: File Output Committer Algorithm version is 1\n",
      "21/12/16 00:40:16 INFO output.FileOutputCommitter: FileOutputCommitter skip cleanup _temporary folders under output directory:false, ignore cleanup failures: false\n",
      "21/12/16 00:40:16 INFO mapred.LocalJobRunner: Waiting for map tasks\n",
      "21/12/16 00:40:16 INFO mapred.LocalJobRunner: Starting task: attempt_local1851107055_0001_m_000000_0\n",
      "21/12/16 00:40:16 INFO output.FileOutputCommitter: File Output Committer Algorithm version is 1\n",
      "21/12/16 00:40:16 INFO output.FileOutputCommitter: FileOutputCommitter skip cleanup _temporary folders under output directory:false, ignore cleanup failures: false\n",
      "21/12/16 00:40:16 INFO mapred.Task:  Using ResourceCalculatorProcessTree : [ ]\n",
      "21/12/16 00:40:16 INFO mapred.MapTask: Processing split: file:/home/comp6235/Mongodb/articles.json:0+33554432\n",
      "21/12/16 00:40:16 INFO mapred.MapTask: numReduceTasks: 1\n",
      "21/12/16 00:40:16 INFO mapred.MapTask: (EQUATOR) 0 kvi 26214396(104857584)\n",
      "21/12/16 00:40:16 INFO mapred.MapTask: mapreduce.task.io.sort.mb: 100\n",
      "21/12/16 00:40:16 INFO mapred.MapTask: soft limit at 83886080\n",
      "21/12/16 00:40:16 INFO mapred.MapTask: bufstart = 0; bufvoid = 104857600\n",
      "21/12/16 00:40:16 INFO mapred.MapTask: kvstart = 26214396; length = 6553600\n",
      "21/12/16 00:40:16 INFO mapred.MapTask: Map output collector class = org.apache.hadoop.mapred.MapTask$MapOutputBuffer\n",
      "21/12/16 00:40:16 INFO streaming.PipeMapRed: PipeMapRed exec [/home/comp6235/Mongodb/././mapper2.py]\n",
      "21/12/16 00:40:16 INFO Configuration.deprecation: mapred.work.output.dir is deprecated. Instead, use mapreduce.task.output.dir\n",
      "21/12/16 00:40:16 INFO Configuration.deprecation: map.input.start is deprecated. Instead, use mapreduce.map.input.start\n",
      "21/12/16 00:40:16 INFO Configuration.deprecation: mapred.task.is.map is deprecated. Instead, use mapreduce.task.ismap\n",
      "21/12/16 00:40:16 INFO Configuration.deprecation: mapred.task.id is deprecated. Instead, use mapreduce.task.attempt.id\n",
      "21/12/16 00:40:16 INFO Configuration.deprecation: mapred.tip.id is deprecated. Instead, use mapreduce.task.id\n",
      "21/12/16 00:40:16 INFO Configuration.deprecation: mapred.local.dir is deprecated. Instead, use mapreduce.cluster.local.dir\n",
      "21/12/16 00:40:16 INFO Configuration.deprecation: map.input.file is deprecated. Instead, use mapreduce.map.input.file\n",
      "21/12/16 00:40:16 INFO Configuration.deprecation: mapred.skip.on is deprecated. Instead, use mapreduce.job.skiprecords\n",
      "21/12/16 00:40:16 INFO Configuration.deprecation: map.input.length is deprecated. Instead, use mapreduce.map.input.length\n",
      "21/12/16 00:40:16 INFO Configuration.deprecation: mapred.job.id is deprecated. Instead, use mapreduce.job.id\n",
      "21/12/16 00:40:16 INFO Configuration.deprecation: user.name is deprecated. Instead, use mapreduce.job.user.name\n",
      "21/12/16 00:40:16 INFO Configuration.deprecation: mapred.task.partition is deprecated. Instead, use mapreduce.task.partition\n",
      "21/12/16 00:40:16 INFO streaming.PipeMapRed: R/W/S=1/0/0 in:NA [rec/s] out:NA [rec/s]\n",
      "21/12/16 00:40:16 INFO streaming.PipeMapRed: R/W/S=10/0/0 in:NA [rec/s] out:NA [rec/s]\n",
      "21/12/16 00:40:16 INFO streaming.PipeMapRed: R/W/S=100/0/0 in:NA [rec/s] out:NA [rec/s]\n",
      "21/12/16 00:40:16 INFO streaming.PipeMapRed: R/W/S=1000/0/0 in:NA [rec/s] out:NA [rec/s]\n",
      "21/12/16 00:40:16 INFO streaming.PipeMapRed: Records R/W=1536/1\n",
      "21/12/16 00:40:17 INFO mapreduce.Job: Job job_local1851107055_0001 running in uber mode : false\n",
      "21/12/16 00:40:17 INFO mapreduce.Job:  map 0% reduce 0%\n",
      "21/12/16 00:40:17 INFO streaming.PipeMapRed: R/W/S=10000/7889/0 in:10000=10000/1 [rec/s] out:7889=7889/1 [rec/s]\n",
      "21/12/16 00:40:18 INFO streaming.PipeMapRed: MRErrorThread done\n",
      "21/12/16 00:40:18 INFO streaming.PipeMapRed: mapRedFinished\n",
      "21/12/16 00:40:18 INFO mapred.LocalJobRunner: \n",
      "21/12/16 00:40:18 INFO mapred.MapTask: Starting flush of map output\n",
      "21/12/16 00:40:18 INFO mapred.MapTask: Spilling map output\n",
      "21/12/16 00:40:18 INFO mapred.MapTask: bufstart = 0; bufend = 171666; bufvoid = 104857600\n",
      "21/12/16 00:40:18 INFO mapred.MapTask: kvstart = 26214396(104857584); kvend = 26132132(104528528); length = 82265/6553600\n",
      "21/12/16 00:40:18 INFO mapred.MapTask: Finished spill 0\n",
      "21/12/16 00:40:18 INFO mapred.Task: Task:attempt_local1851107055_0001_m_000000_0 is done. And is in the process of committing\n",
      "21/12/16 00:40:18 INFO mapred.LocalJobRunner: Records R/W=1536/1\n",
      "21/12/16 00:40:18 INFO mapred.Task: Task 'attempt_local1851107055_0001_m_000000_0' done.\n",
      "21/12/16 00:40:18 INFO mapred.Task: Final Counters for attempt_local1851107055_0001_m_000000_0: Counters: 17\n",
      "\tFile System Counters\n",
      "\t\tFILE: Number of bytes read=33699474\n",
      "\t\tFILE: Number of bytes written=858327\n",
      "\t\tFILE: Number of read operations=0\n",
      "\t\tFILE: Number of large read operations=0\n",
      "\t\tFILE: Number of write operations=0\n",
      "\tMap-Reduce Framework\n",
      "\t\tMap input records=23493\n",
      "\t\tMap output records=20567\n",
      "\t\tMap output bytes=171666\n",
      "\t\tMap output materialized bytes=212806\n",
      "\t\tInput split bytes=93\n",
      "\t\tCombine input records=0\n",
      "\t\tSpilled Records=20567\n",
      "\t\tFailed Shuffles=0\n",
      "\t\tMerged Map outputs=0\n",
      "\t\tGC time elapsed (ms)=0\n",
      "\t\tTotal committed heap usage (bytes)=220725248\n",
      "\tFile Input Format Counters \n",
      "\t\tBytes Read=33558528\n",
      "21/12/16 00:40:18 INFO mapred.LocalJobRunner: Finishing task: attempt_local1851107055_0001_m_000000_0\n",
      "21/12/16 00:40:18 INFO mapred.LocalJobRunner: Starting task: attempt_local1851107055_0001_m_000001_0\n",
      "21/12/16 00:40:18 INFO output.FileOutputCommitter: File Output Committer Algorithm version is 1\n",
      "21/12/16 00:40:18 INFO output.FileOutputCommitter: FileOutputCommitter skip cleanup _temporary folders under output directory:false, ignore cleanup failures: false\n",
      "21/12/16 00:40:18 INFO mapred.Task:  Using ResourceCalculatorProcessTree : [ ]\n",
      "21/12/16 00:40:18 INFO mapred.MapTask: Processing split: file:/home/comp6235/Mongodb/articles.json:33554432+33554432\n",
      "21/12/16 00:40:18 INFO mapred.MapTask: numReduceTasks: 1\n",
      "21/12/16 00:40:18 INFO mapred.MapTask: (EQUATOR) 0 kvi 26214396(104857584)\n",
      "21/12/16 00:40:18 INFO mapred.MapTask: mapreduce.task.io.sort.mb: 100\n",
      "21/12/16 00:40:18 INFO mapred.MapTask: soft limit at 83886080\n",
      "21/12/16 00:40:18 INFO mapred.MapTask: bufstart = 0; bufvoid = 104857600\n",
      "21/12/16 00:40:18 INFO mapred.MapTask: kvstart = 26214396; length = 6553600\n",
      "21/12/16 00:40:18 INFO mapred.MapTask: Map output collector class = org.apache.hadoop.mapred.MapTask$MapOutputBuffer\n",
      "21/12/16 00:40:18 INFO streaming.PipeMapRed: PipeMapRed exec [/home/comp6235/Mongodb/././mapper2.py]\n",
      "21/12/16 00:40:18 INFO streaming.PipeMapRed: R/W/S=1/0/0 in:NA [rec/s] out:NA [rec/s]\n",
      "21/12/16 00:40:18 INFO streaming.PipeMapRed: R/W/S=10/0/0 in:NA [rec/s] out:NA [rec/s]\n",
      "21/12/16 00:40:18 INFO streaming.PipeMapRed: R/W/S=100/0/0 in:NA [rec/s] out:NA [rec/s]\n",
      "21/12/16 00:40:18 INFO streaming.PipeMapRed: R/W/S=1000/0/0 in:NA [rec/s] out:NA [rec/s]\n",
      "21/12/16 00:40:18 INFO streaming.PipeMapRed: Records R/W=1149/1\n",
      "21/12/16 00:40:19 INFO mapreduce.Job:  map 100% reduce 0%\n",
      "21/12/16 00:40:19 INFO streaming.PipeMapRed: R/W/S=10000/8829/0 in:NA [rec/s] out:NA [rec/s]\n",
      "21/12/16 00:40:20 INFO streaming.PipeMapRed: MRErrorThread done\n",
      "21/12/16 00:40:20 INFO streaming.PipeMapRed: mapRedFinished\n",
      "21/12/16 00:40:20 INFO mapred.LocalJobRunner: \n",
      "21/12/16 00:40:20 INFO mapred.MapTask: Starting flush of map output\n",
      "21/12/16 00:40:20 INFO mapred.MapTask: Spilling map output\n",
      "21/12/16 00:40:20 INFO mapred.MapTask: bufstart = 0; bufend = 165003; bufvoid = 104857600\n",
      "21/12/16 00:40:20 INFO mapred.MapTask: kvstart = 26214396(104857584); kvend = 26134896(104539584); length = 79501/6553600\n",
      "21/12/16 00:40:20 INFO mapred.MapTask: Finished spill 0\n",
      "21/12/16 00:40:20 INFO mapred.Task: Task:attempt_local1851107055_0001_m_000001_0 is done. And is in the process of committing\n",
      "21/12/16 00:40:20 INFO mapred.LocalJobRunner: Records R/W=1149/1\n",
      "21/12/16 00:40:20 INFO mapred.Task: Task 'attempt_local1851107055_0001_m_000001_0' done.\n",
      "21/12/16 00:40:20 INFO mapred.Task: Final Counters for attempt_local1851107055_0001_m_000001_0: Counters: 17\n",
      "\tFile System Counters\n",
      "\t\tFILE: Number of bytes read=67261486\n",
      "\t\tFILE: Number of bytes written=1063120\n",
      "\t\tFILE: Number of read operations=0\n",
      "\t\tFILE: Number of large read operations=0\n",
      "\t\tFILE: Number of write operations=0\n",
      "\tMap-Reduce Framework\n",
      "\t\tMap input records=22779\n",
      "\t\tMap output records=19876\n",
      "\t\tMap output bytes=165003\n",
      "\t\tMap output materialized bytes=204761\n",
      "\t\tInput split bytes=93\n",
      "\t\tCombine input records=0\n",
      "\t\tSpilled Records=19876\n",
      "\t\tFailed Shuffles=0\n",
      "\t\tMerged Map outputs=0\n",
      "\t\tGC time elapsed (ms)=0\n",
      "\t\tTotal committed heap usage (bytes)=326107136\n",
      "\tFile Input Format Counters \n",
      "\t\tBytes Read=33558528\n",
      "21/12/16 00:40:20 INFO mapred.LocalJobRunner: Finishing task: attempt_local1851107055_0001_m_000001_0\n",
      "21/12/16 00:40:20 INFO mapred.Local"
     ]
    },
    {
     "data": {
      "text/html": [
       "<b>limit_output extension: Maximum message size of 10000 exceeded with 152763 characters</b>"
      ]
     },
     "metadata": {},
     "output_type": "display_data"
    }
   ],
   "source": [
    "%%bash\n",
    "#Hadoop command to run the map reduce.\n",
    "\n",
    "hadoop jar $HADOOP_HOME/share/hadoop/tools/lib/hadoop-streaming-*.jar \\\n",
    "-files mapper2.py,reducer2.py \\\n",
    "-input ./articles.json \\\n",
    "-mapper ./mapper2.py \\\n",
    "-reducer ./reducer2.py \\\n",
    "-output output2"
   ]
  },
  {
   "cell_type": "code",
   "execution_count": 20,
   "metadata": {
    "ExecuteTime": {
     "end_time": "2021-12-16T00:41:11.672547Z",
     "start_time": "2021-12-16T00:41:11.652462Z"
    }
   },
   "outputs": [],
   "source": [
    "#Expected key-value output format:\n",
    "#1-5    average\n",
    "#6-10   average\n",
    "#... and so on"
   ]
  },
  {
   "cell_type": "markdown",
   "metadata": {},
   "source": [
    "### Marking scheme\n",
    "\n",
    "- The result provided is correct: An incorrect answer will have between 0% and 40% of the mark depending on the nature of the mistake. Questions where there was only one answer possible will have 0%, questions where the result is correct in some cases and not others will be marked at 20% or 40%. Feel free to create as many notebooks as you want for experimenting and transcribe your final answer to the one you submit.\n",
    "\n",
    "- The result is provided in the expected format and output: 20% will be deducted to correct results that are not in the expected format\n",
    "\n",
    "- Efficiency of the answer: Measured in terms of execution time. There are many ways to reach the correct result, some of them are more efficient than others, some are more straight forward than others. \n",
    "\n",
    "- Tables below detail the percentage of mark you get according to the efficiency of the answer, each cell shows the maximum time allowed to get the mark in the corresponding row. Answers that take more time than the time in the 60% column will be declared timeout and get zero points. (run the cells for showing the tables)\n",
    "\n"
   ]
  },
  {
   "cell_type": "markdown",
   "metadata": {},
   "source": [
    "\n",
    "\n",
    "| Task1 | Points |  100% | 80% | 60% | \n",
    "| --- | --- | --- | --- | --- | \n",
    "| q1 | 5 | 5sec |  10 sec | 2minutes | \n",
    "|  q2 | 5 | 5sec   | 10 sec   | 2minutes   |\n",
    "|  q3 | 5 |  10sec  | 40sec  |  5minutes  |\n",
    "|  q4 | 5 | 5sec   | 10sec   | 2minutes   |\n",
    "|  q5 | 10 | 10sec   | 60sec  | 8minutes   |\n",
    "|  q6 | 10  |  15sec   | 90sec   | 10minutes   |\n",
    "|  q7 | 10 | 15sec    | 90sec   | 10minutes   |\n",
    "|  q8 | 10 | 90 sec    | 5minutes  | 10minutes  | \n",
    "|  q9 (worst case) | 10   | 20sec   |  100 sec  | 10 minutes  |\n",
    "|  q10| 10  |  60sec  | 3minutes   | 10minutes   |"
   ]
  },
  {
   "cell_type": "markdown",
   "metadata": {
    "ExecuteTime": {
     "start_time": "2021-10-27T03:16:46.397Z"
    }
   },
   "source": [
    "| Task2 | points | 100% | 80% | 60% | \n",
    "| --- |--- | --- | --- | --- | \n",
    "| q1 | 8 | 90sec |  5minutes | 10minutes | \n",
    "|  q2| 12  | 90sec   | 5minutes   | 10minutes   |"
   ]
  }
 ],
 "metadata": {
  "anaconda-cloud": {},
  "kernelspec": {
   "display_name": "Python 3",
   "language": "python",
   "name": "python3"
  },
  "language_info": {
   "codemirror_mode": {
    "name": "ipython",
    "version": 3
   },
   "file_extension": ".py",
   "mimetype": "text/x-python",
   "name": "python",
   "nbconvert_exporter": "python",
   "pygments_lexer": "ipython3",
   "version": "3.8.10"
  }
 },
 "nbformat": 4,
 "nbformat_minor": 2
}
